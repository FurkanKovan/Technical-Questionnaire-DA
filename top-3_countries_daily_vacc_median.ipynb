{
 "cells": [
  {
   "cell_type": "code",
   "execution_count": 1,
   "id": "db51891f",
   "metadata": {},
   "outputs": [],
   "source": [
    "import pandas as pd\n",
    "\n",
    "raw_data = pd.read_csv('country_vaccination_stats.csv')\n",
    "\n",
    "# Making a copy to secure\n",
    "no_mv_data = raw_data.copy()\n",
    "\n",
    "# A dataframe with only missing values\n",
    "mv_rows = no_mv_data[no_mv_data['daily_vaccinations'].isna()]\n",
    "\n",
    "# Getting minimum values of daily vaccinations per country\n",
    "daily_vacc_min = no_mv_data.groupby('country')['daily_vaccinations'].min()\n",
    "\n",
    "# Loop for replacing NaN values\n",
    "for index, row in mv_rows.iterrows():\n",
    "    country = row['country']\n",
    "    daily_vacc = row['daily_vaccinations']\n",
    "    if country == daily_vacc_min[daily_vacc_min.isnull()].index: # If country has no min value (e.g Kuwait)\n",
    "        no_mv_data.loc[index, 'daily_vaccinations'] = 0\n",
    "    else:\n",
    "        no_mv_data.loc[index, 'daily_vaccinations'] = daily_vacc_min[country]"
   ]
  },
  {
   "cell_type": "code",
   "execution_count": 2,
   "id": "903ee537",
   "metadata": {},
   "outputs": [
    {
     "data": {
      "text/plain": [
       "country\n",
       "United States    378253.0\n",
       "China            276786.0\n",
       "India            173922.0\n",
       "Name: daily_vaccinations, dtype: float64"
      ]
     },
     "execution_count": 2,
     "metadata": {},
     "output_type": "execute_result"
    }
   ],
   "source": [
    "# Grouping by country, aggregating by median and getting top 3\n",
    "daily_vacc_top3 = no_mv_data.groupby('country')['daily_vaccinations'].agg('median').sort_values(ascending=False)[:3]\n",
    "\n",
    "#top3_list = daily_vacc_top3.tolist()\n",
    "daily_vacc_top3"
   ]
  }
 ],
 "metadata": {
  "kernelspec": {
   "display_name": "Python 3",
   "language": "python",
   "name": "python3"
  },
  "language_info": {
   "codemirror_mode": {
    "name": "ipython",
    "version": 3
   },
   "file_extension": ".py",
   "mimetype": "text/x-python",
   "name": "python",
   "nbconvert_exporter": "python",
   "pygments_lexer": "ipython3",
   "version": "3.8.8"
  }
 },
 "nbformat": 4,
 "nbformat_minor": 5
}
